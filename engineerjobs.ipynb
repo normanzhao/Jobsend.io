{
 "cells": [
  {
   "cell_type": "code",
   "execution_count": 1,
   "metadata": {
    "collapsed": false
   },
   "outputs": [
    {
     "name": "stdout",
     "output_type": "stream",
     "text": [
      "aerospace-engineering\n",
      "agricultural-engineering\n",
      "architectural-engineering\n",
      "biomedical-engineering\n",
      "chemical-engineering\n",
      "civil-engineering\n",
      "computer-engineering\n",
      "construction-engineering\n",
      "electrical-engineering\n",
      "electronics-engineering\n",
      "environmental-engineering\n",
      "financial-engineering\n",
      "geotechnical-engineering\n",
      "industrial-engineering\n",
      "manufacturing-engineering\n",
      "marine-engineering\n",
      "materials-engineering\n",
      "mechanical-engineering\n",
      "metallurgical-engineering\n",
      "mining-engineering\n",
      "network-engineering\n",
      "nuclear-engineering\n",
      "packaging-engineering\n",
      "petroleum-engineering\n",
      "process-engineering\n",
      "project-engineering\n",
      "quality-engineering\n",
      "safety-engineering\n",
      "sales-engineering\n",
      "software-engineering\n",
      "solar-engineering\n",
      "structural-engineering\n",
      "systems-engineering\n"
     ]
    },
    {
     "ename": "NameError",
     "evalue": "name 'datetime' is not defined",
     "output_type": "error",
     "traceback": [
      "\u001b[1;31m---------------------------------------------------------------------------\u001b[0m",
      "\u001b[1;31mNameError\u001b[0m                                 Traceback (most recent call last)",
      "\u001b[1;32m<ipython-input-1-755dc2e7aa26>\u001b[0m in \u001b[0;36m<module>\u001b[1;34m()\u001b[0m\n\u001b[0;32m     55\u001b[0m             \u001b[1;32mpass\u001b[0m\u001b[1;33m\u001b[0m\u001b[0m\n\u001b[0;32m     56\u001b[0m \u001b[1;33m\u001b[0m\u001b[0m\n\u001b[1;32m---> 57\u001b[1;33m \u001b[1;32mprint\u001b[0m \u001b[1;34m\"Completed in %.2f seconds\"\u001b[0m \u001b[1;33m%\u001b[0m\u001b[1;33m(\u001b[0m\u001b[0mdatetime\u001b[0m\u001b[1;33m.\u001b[0m\u001b[0mnow\u001b[0m\u001b[1;33m(\u001b[0m\u001b[1;33m)\u001b[0m \u001b[1;33m-\u001b[0m \u001b[0mstartTime\u001b[0m\u001b[1;33m)\u001b[0m\u001b[1;33m\u001b[0m\u001b[0m\n\u001b[0m",
      "\u001b[1;31mNameError\u001b[0m: name 'datetime' is not defined"
     ]
    }
   ],
   "source": [
    "from bs4 import BeautifulSoup\n",
    "import urllib2\n",
    "import time\n",
    "import sqlalchemy\n",
    "from sqlalchemy import create_engine\n",
    "import common\n",
    "import datetime as dt\n",
    "fields = common.fields\n",
    "engine = common.engine\n",
    "import re\n",
    "startTime = dt.datetime.now()\n",
    "\n",
    "#DEBUG\n",
    "'''url = \"http://www.engineerjobs.com/jobs/\"+fieldS[0]+\"/?f=1\"\n",
    "jobs = urllib2.urlopen(url)\n",
    "soup = BeautifulSoup(jobs, 'html.parser')\n",
    "for link in soup('tr'):\n",
    "    print link('td')[0].a.text, \"http://www.engineerjobs.com\"+link('td')[0].a['data-mdref'], link('td')[1].text, link('td')[2].text'''\n",
    "#DEBUG\n",
    "\n",
    "for field in fields: \n",
    "    print field\n",
    "    url = \"http://www.engineerjobs.com/jobs/\"+field+\"/?f=1\"\n",
    "    sql = \"INSERT INTO `%s-jobs` VALUES\"%(field)\n",
    "    while True:\n",
    "        try:\n",
    "            jobs = urllib2.urlopen(url)\n",
    "        except urllib2.HTTPError:\n",
    "            print \"URL error\"\n",
    "            time.sleep(30)\n",
    "            jobs = urllib2.urlopen(url)\n",
    "        soup = BeautifulSoup(jobs, 'html.parser')\n",
    "        for link in soup('tr'):\n",
    "            try:\n",
    "                sql += '(\"%s\",\"%s\",\"%s\",\"%s\",\"%s\"),' %(link('td')[0].a.text.replace('\"','\\\\\"'), \"http://www.engineerjobs.com\"+link('td')[0].a['data-mdref'], link('td')[2].text.strip(),\\\n",
    "                                                 link('td')[1].text.strip().replace('\"','\\\\\"'), re.sub(r'.*?, *', '', link('td')[1].text.strip().replace('\"','\\\\\"')))\n",
    "            except AttributeError: \n",
    "                pass\n",
    "            except IndexError: \n",
    "                pass\n",
    "            except Exception as e:\n",
    "                print e\n",
    "                pass\n",
    "        try:\n",
    "            next_ = soup(\"li\", class_=\"next\")\n",
    "            if next_[0][\"class\"] == ['next']:\n",
    "                url = \"http://www.engineerjobs.com/\" + next_[0].a['href']\n",
    "            else:\n",
    "                break\n",
    "        except IndexError:\n",
    "            break\n",
    "    if sql != \"INSERT INTO `%s-jobs` VALUES\"%(field):\n",
    "        try:\n",
    "            engine.execute(sqlalchemy.text(sql[:-1]))\n",
    "        except Exception as e:\n",
    "            print e\n",
    "            pass\n",
    "        \n",
    "print \"Completed in \" + str(dt.datetime.now() - startTime)"
   ]
  }
 ],
 "metadata": {
  "kernelspec": {
   "display_name": "Python 2",
   "language": "python",
   "name": "python2"
  },
  "language_info": {
   "codemirror_mode": {
    "name": "ipython",
    "version": 2
   },
   "file_extension": ".py",
   "mimetype": "text/x-python",
   "name": "python",
   "nbconvert_exporter": "python",
   "pygments_lexer": "ipython2",
   "version": "2.7.12"
  }
 },
 "nbformat": 4,
 "nbformat_minor": 0
}
