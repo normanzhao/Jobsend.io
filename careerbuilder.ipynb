{
 "cells": [
  {
   "cell_type": "code",
   "execution_count": null,
   "metadata": {
    "collapsed": false
   },
   "outputs": [
    {
     "name": "stdout",
     "output_type": "stream",
     "text": [
      "aerospace-engineering\n",
      "(pymysql.err.OperationalError) (1045, u\"Access denied for user 'adder'@'localhost' (using password: YES)\")\n",
      "agricultural-engineering\n",
      "(pymysql.err.OperationalError) (1045, u\"Access denied for user 'adder'@'localhost' (using password: YES)\")\n",
      "architectural-engineering\n",
      "(pymysql.err.OperationalError) (1045, u\"Access denied for user 'adder'@'localhost' (using password: YES)\")\n",
      "biomedical-engineering\n",
      "(pymysql.err.OperationalError) (1045, u\"Access denied for user 'adder'@'localhost' (using password: YES)\")\n",
      "chemical-engineering\n",
      "(pymysql.err.OperationalError) (1045, u\"Access denied for user 'adder'@'localhost' (using password: YES)\")\n",
      "civil-engineering\n"
     ]
    }
   ],
   "source": [
    "from bs4 import BeautifulSoup\n",
    "import urllib2\n",
    "import time\n",
    "import sqlalchemy\n",
    "from sqlalchemy import create_engine\n",
    "import common\n",
    "import datetime as dt\n",
    "fields = common.fields\n",
    "engine = common.engine\n",
    "import re\n",
    "startTime = dt.datetime.now()\n",
    "\n",
    "#DEBUG\n",
    "'''url = \"http://www.careerbuilder.com/jobs-\"+fields[0]+\"?posted=1\"\n",
    "jobs = urllib2.urlopen(url)\n",
    "soup = BeautifulSoup(jobs, 'html.parser')\n",
    "for link in soup('div', class_='job-row'):\n",
    "    print link('h2', class_='job-title')[0].a.text,\"(%s)\"%(link('h4', class_='job-text')[0].text.strip()), \\\n",
    "    \"http://www.careerbuilder.com/\" + link('h2', class_='job-title')[0].a['href'], link('h4', class_='job-text')[1].text.strip(), link('h4', class_='job-text')[2].text.replace('\\n','')\n",
    "'''\n",
    "#DEBUG\n",
    "\n",
    "for field in fields: \n",
    "    print field\n",
    "    url = \"http://www.careerbuilder.com/jobs-\"+field+\"?posted=1\"\n",
    "    sql = \"INSERT INTO `%s-jobs` VALUES\"%(field)\n",
    "    while True:\n",
    "        try:\n",
    "            jobs = urllib2.urlopen(url)\n",
    "        except urllib2.HTTPError:\n",
    "            print \"URL error: \", url\n",
    "            time.sleep(30)\n",
    "            jobs = urllib2.urlopen(url)\n",
    "        soup = BeautifulSoup(jobs, 'html.parser')\n",
    "        for link in soup('div', class_='job-row'):\n",
    "            try:\n",
    "                sql += '(\"%s(%s)\",\"%s\",\"%s\",\"%s\",\"%s\"),' %(link('h2', class_='job-title hide-for-medium-up')[0].a.text.replace('\"','\\\\\"'), (link('h4', class_='job-text')[0].text.strip()), \\\n",
    "                \"http://www.careerbuilder.com/\" + link('h2', class_='job-title hide-for-medium-up')[0].a['href'], link('h4', class_='job-text')[1].text.strip(), \\\n",
    "                link('h4', class_='job-text')[2].text.replace('\\n','').strip().replace('\"','\\\\\"'),\\\n",
    "                re.sub(r'.*?, *', '', link('h4', class_='job-text')[2].text.replace('\\n','').strip().replace('\"','\\\\\"')))\n",
    "            except AttributeError: \n",
    "                print \"Attribute error\" \n",
    "                pass\n",
    "            except IndexError: \n",
    "                print \"Index error\"\n",
    "                pass\n",
    "            except Exception as e:\n",
    "                print e\n",
    "                pass\n",
    "        if soup('a', {\"data-gtm\":\"jrp-job-list|pagination-next\"}) and (soup('a', {\"data-gtm\":\"jrp-job-list|pagination-next\"})[0]['aria-disabled'] == 'false'):\n",
    "            url = soup('a', {\"data-gtm\":\"jrp-job-list|pagination-next\"})[0]['href']\n",
    "        else:\n",
    "            break\n",
    "    if sql != \"INSERT INTO jobs VALUES\":\n",
    "        try:\n",
    "            engine.execute(sqlalchemy.text(sql[:-1]))\n",
    "        except Exception as e:\n",
    "            print e\n",
    "            pass\n",
    "        \n",
    "print \"Completed in \" + str(dt.datetime.now() - startTime)"
   ]
  }
 ],
 "metadata": {
  "kernelspec": {
   "display_name": "Python 2",
   "language": "python",
   "name": "python2"
  },
  "language_info": {
   "codemirror_mode": {
    "name": "ipython",
    "version": 2
   },
   "file_extension": ".py",
   "mimetype": "text/x-python",
   "name": "python",
   "nbconvert_exporter": "python",
   "pygments_lexer": "ipython2",
   "version": "2.7.12"
  }
 },
 "nbformat": 4,
 "nbformat_minor": 0
}
