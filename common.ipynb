{
 "cells": [
  {
   "cell_type": "code",
   "execution_count": 6,
   "metadata": {
    "collapsed": false,
    "scrolled": false
   },
   "outputs": [
    {
     "name": "stdout",
     "output_type": "stream",
     "text": [
      "\n",
      "\n",
      "\n",
      "\n",
      "\n",
      "2017-09-21\n"
     ]
    }
   ],
   "source": [
    "from bs4 import BeautifulSoup\n",
    "import urllib2\n",
    "import time\n",
    "import sqlalchemy\n",
    "from sqlalchemy import create_engine\n",
    "import common\n",
    "import datetime as dt\n",
    "fields = common.fields\n",
    "engine = common.engine\n",
    "startTime = dt.datetime.now()\n",
    "\n",
    "fields = ['aerospace-engineering', 'agricultural-engineering', 'architectural-engineering', 'biomedical-engineering', 'chemical-engineering', \\\n",
    "        'civil-engineering', 'computer-engineering', 'construction-engineering', 'electrical-engineering', 'environmental-engineering', \\\n",
    "        'financial-engineering', 'geotechnical-engineering', 'industrial-engineering', 'manufacturing-engineering', 'marine-engineering', 'materials-engineering', \\\n",
    "        'mechanical-engineering', 'metallurgical-engineering', 'mining-engineering', 'network-engineering', 'nuclear-engineering', 'packaging-engineering',\\\n",
    "        'petroleum-engineering', 'process-engineering', 'project-engineering', 'quality-engineering', 'safety-engineering', 'sales-engineering', 'software-engineering',\\\n",
    "        'solar-engineering', 'structural-engineering', 'systems-engineering']\n",
    "\n",
    "#engine = create_engine('mysql+pymysql://root:@localhost:3306/jobsend.io')\n",
    "#conn = engine.connect()\n",
    "\n",
    "\n",
    "\"\"\"for field in fields:\n",
    "    sql = '''CREATE TABLE `%s-jobs` (\n",
    "  `title` text,\n",
    "  `link` text,\n",
    "  `company` text,\n",
    "  `location` text,\n",
    "  `state` text\n",
    ") ENGINE=InnoDB DEFAULT CHARSET=utf8;\n",
    "'''%(field)\n",
    "    conn.execute(sql)\"\"\"\n",
    "\n",
    "print \"\\n\\n\\n\\n\\n%s\"%(str(dt.date.today()))"
   ]
  }
 ],
 "metadata": {
  "kernelspec": {
   "display_name": "Python 2",
   "language": "python",
   "name": "python2"
  },
  "language_info": {
   "codemirror_mode": {
    "name": "ipython",
    "version": 2
   },
   "file_extension": ".py",
   "mimetype": "text/x-python",
   "name": "python",
   "nbconvert_exporter": "python",
   "pygments_lexer": "ipython2",
   "version": "2.7.12"
  }
 },
 "nbformat": 4,
 "nbformat_minor": 0
}
